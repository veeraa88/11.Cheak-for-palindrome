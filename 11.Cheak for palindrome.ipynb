{
 "cells": [
  {
   "cell_type": "code",
   "execution_count": null,
   "id": "000561ea-9124-469f-a10a-30d0ab8e6eb3",
   "metadata": {},
   "outputs": [],
   "source": [
    "## Cheak for palindrome"
   ]
  },
  {
   "cell_type": "code",
   "execution_count": 9,
   "id": "9e606c4a-d0f5-4194-9fe0-278b721cc906",
   "metadata": {},
   "outputs": [
    {
     "name": "stdin",
     "output_type": "stream",
     "text": [
      "Enter a string: madam\n"
     ]
    },
    {
     "name": "stdout",
     "output_type": "stream",
     "text": [
      "True\n"
     ]
    }
   ],
   "source": [
    "string=input(\"Enter a string:\")\n",
    "def palindrome(a):\n",
    "    if string == string[::-1]:\n",
    "        print(\"True\")\n",
    "\n",
    "    else:\n",
    "        print(\"False\")\n",
    "palindrome(string)"
   ]
  },
  {
   "cell_type": "code",
   "execution_count": null,
   "id": "2cdd591d-9058-4f46-a091-9b8f00b264ae",
   "metadata": {},
   "outputs": [],
   "source": []
  }
 ],
 "metadata": {
  "kernelspec": {
   "display_name": "Python [conda env:base] *",
   "language": "python",
   "name": "conda-base-py"
  },
  "language_info": {
   "codemirror_mode": {
    "name": "ipython",
    "version": 3
   },
   "file_extension": ".py",
   "mimetype": "text/x-python",
   "name": "python",
   "nbconvert_exporter": "python",
   "pygments_lexer": "ipython3",
   "version": "3.12.7"
  }
 },
 "nbformat": 4,
 "nbformat_minor": 5
}
